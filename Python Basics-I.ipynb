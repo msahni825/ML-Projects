{
 "cells": [
  {
   "cell_type": "markdown",
   "metadata": {},
   "source": [
    "# Working with date, time and datetime classes"
   ]
  },
  {
   "cell_type": "code",
   "execution_count": 1,
   "metadata": {},
   "outputs": [],
   "source": [
    "from datetime import date\n",
    "from datetime import time\n",
    "from datetime import datetime"
   ]
  },
  {
   "cell_type": "code",
   "execution_count": 17,
   "metadata": {},
   "outputs": [
    {
     "name": "stdout",
     "output_type": "stream",
     "text": [
      "Todays date:  2021-11-14\n",
      "Date components:  14 - 11 - 2021\n",
      "Todays weekday # is:  6\n",
      "Which is a:  sun\n"
     ]
    }
   ],
   "source": [
    "def main():\n",
    "    today = date.today()\n",
    "    print(\"Todays date: \",today)\n",
    "    print(\"Date components: \",today.day,\"-\",today.month,\"-\",today.year)\n",
    "    print(\"Todays weekday # is: \",today.weekday())\n",
    "    days=[\"mon\",\"tue\",\"wed\",\"thu\",\"fri\",\"sat\",\"sun\"]\n",
    "    print(\"Which is a: \",days[today.weekday()])\n",
    "    \n",
    "if __name__ == \"__main()__\":\n",
    "    main();\n",
    "    \n",
    "main()"
   ]
  },
  {
   "cell_type": "code",
   "execution_count": 18,
   "metadata": {},
   "outputs": [
    {
     "name": "stdout",
     "output_type": "stream",
     "text": [
      "The current date and time is:  2021-11-14 20:13:38.392883\n",
      "20:13:38.393881\n"
     ]
    }
   ],
   "source": [
    "def showTime():\n",
    "    today=datetime.now()\n",
    "    print(\"The current date and time is: \",today)\n",
    "    t=datetime.time(datetime.now())\n",
    "    print(t)\n",
    "showTime()"
   ]
  },
  {
   "cell_type": "code",
   "execution_count": 21,
   "metadata": {},
   "outputs": [
    {
     "name": "stdout",
     "output_type": "stream",
     "text": [
      "Sun, 14 November, 21\n",
      "Local date & time: Sun Nov 14 20:20:18 2021\n",
      "Local date: 11/14/21\n",
      "Local time: 20:20:18\n",
      "Current time: 08:20:18 PM\n"
     ]
    }
   ],
   "source": [
    "def main():\n",
    "    now=datetime.now()\n",
    "    print(now.strftime(\"%a, %d %B, %y\"))\n",
    "    print(now.strftime(\"Local date & time: %c\"))\n",
    "    print(now.strftime(\"Local date: %x\"))\n",
    "    print(now.strftime(\"Local time: %X\"))\n",
    "    print(now.strftime(\"Current time: %I:%M:%S %p\"))\n",
    "main()"
   ]
  },
  {
   "cell_type": "markdown",
   "metadata": {},
   "source": [
    "# Using timedelta objects"
   ]
  },
  {
   "cell_type": "code",
   "execution_count": 22,
   "metadata": {},
   "outputs": [],
   "source": [
    "from datetime import timedelta"
   ]
  },
  {
   "cell_type": "code",
   "execution_count": 23,
   "metadata": {},
   "outputs": [
    {
     "name": "stdout",
     "output_type": "stream",
     "text": [
      "365 days, 5:01:00\n"
     ]
    }
   ],
   "source": [
    "print(timedelta(days=365, hours=5, minutes=1))"
   ]
  },
  {
   "cell_type": "code",
   "execution_count": 25,
   "metadata": {},
   "outputs": [
    {
     "name": "stdout",
     "output_type": "stream",
     "text": [
      "Today is: 2021-11-14 20:23:42.810098\n",
      "One year from now will be: 2022-11-14 20:23:42.810098\n"
     ]
    }
   ],
   "source": [
    "now=datetime.now()\n",
    "print(\"Today is: \"+str(now))\n",
    "print(\"One year from now will be: \"+str(now+timedelta(days=365)))"
   ]
  },
  {
   "cell_type": "code",
   "execution_count": 26,
   "metadata": {},
   "outputs": [
    {
     "name": "stdout",
     "output_type": "stream",
     "text": [
      "In 2 days and 3 weeks will be: 2021-12-07 20:23:42.810098\n"
     ]
    }
   ],
   "source": [
    "print(\"In 2 days and 3 weeks will be: \"+str(now+timedelta(days=2, weeks=3)))"
   ]
  },
  {
   "cell_type": "code",
   "execution_count": 27,
   "metadata": {},
   "outputs": [
    {
     "name": "stdout",
     "output_type": "stream",
     "text": [
      "One week ago it was: Sunday November 07, 2021\n"
     ]
    }
   ],
   "source": [
    "t=datetime.now()-timedelta(weeks=1)\n",
    "s=t.strftime(\"%A %B %d, %Y\")\n",
    "print(\"One week ago it was: \"+s)"
   ]
  },
  {
   "cell_type": "code",
   "execution_count": 31,
   "metadata": {},
   "outputs": [
    {
     "name": "stdout",
     "output_type": "stream",
     "text": [
      "April fools day already went by 227 days ago\n",
      "Its just  -227  days until April fools day\n"
     ]
    }
   ],
   "source": [
    "today=date.today()\n",
    "aff=date(today.year,4,1)\n",
    "if aff<today:\n",
    "    print(\"April fools day already went by %d days ago\" %(today-aff).days)\n",
    "#     afd=aff.replace(year=toady.year+1)\n",
    "time_to_aff=aff-today\n",
    "print(\"Its just \",time_to_aff.days,\" days until April fools day\")"
   ]
  },
  {
   "cell_type": "markdown",
   "metadata": {},
   "source": [
    "# Using Calendars"
   ]
  },
  {
   "cell_type": "code",
   "execution_count": 32,
   "metadata": {},
   "outputs": [],
   "source": [
    "import calendar"
   ]
  },
  {
   "cell_type": "code",
   "execution_count": 35,
   "metadata": {},
   "outputs": [
    {
     "name": "stdout",
     "output_type": "stream",
     "text": [
      "    January 2022\n",
      "Mo Tu We Th Fr Sa Su\n",
      "                1  2\n",
      " 3  4  5  6  7  8  9\n",
      "10 11 12 13 14 15 16\n",
      "17 18 19 20 21 22 23\n",
      "24 25 26 27 28 29 30\n",
      "31\n",
      "\n"
     ]
    }
   ],
   "source": [
    "c=calendar.TextCalendar(calendar.MONDAY)\n",
    "st=c.formatmonth(2022,1,0,0)\n",
    "print(st)"
   ]
  },
  {
   "cell_type": "code",
   "execution_count": 36,
   "metadata": {},
   "outputs": [
    {
     "name": "stdout",
     "output_type": "stream",
     "text": [
      "<table border=\"0\" cellpadding=\"0\" cellspacing=\"0\" class=\"month\">\n",
      "<tr><th colspan=\"7\" class=\"month\">January 2017</th></tr>\n",
      "<tr><th class=\"sun\">Sun</th><th class=\"mon\">Mon</th><th class=\"tue\">Tue</th><th class=\"wed\">Wed</th><th class=\"thu\">Thu</th><th class=\"fri\">Fri</th><th class=\"sat\">Sat</th></tr>\n",
      "<tr><td class=\"sun\">1</td><td class=\"mon\">2</td><td class=\"tue\">3</td><td class=\"wed\">4</td><td class=\"thu\">5</td><td class=\"fri\">6</td><td class=\"sat\">7</td></tr>\n",
      "<tr><td class=\"sun\">8</td><td class=\"mon\">9</td><td class=\"tue\">10</td><td class=\"wed\">11</td><td class=\"thu\">12</td><td class=\"fri\">13</td><td class=\"sat\">14</td></tr>\n",
      "<tr><td class=\"sun\">15</td><td class=\"mon\">16</td><td class=\"tue\">17</td><td class=\"wed\">18</td><td class=\"thu\">19</td><td class=\"fri\">20</td><td class=\"sat\">21</td></tr>\n",
      "<tr><td class=\"sun\">22</td><td class=\"mon\">23</td><td class=\"tue\">24</td><td class=\"wed\">25</td><td class=\"thu\">26</td><td class=\"fri\">27</td><td class=\"sat\">28</td></tr>\n",
      "<tr><td class=\"sun\">29</td><td class=\"mon\">30</td><td class=\"tue\">31</td><td class=\"noday\">&nbsp;</td><td class=\"noday\">&nbsp;</td><td class=\"noday\">&nbsp;</td><td class=\"noday\">&nbsp;</td></tr>\n",
      "</table>\n",
      "\n"
     ]
    }
   ],
   "source": [
    "hc=calendar.HTMLCalendar(calendar.SUNDAY)\n",
    "st=hc.formatmonth(2017,1)\n",
    "print(st)"
   ]
  },
  {
   "cell_type": "code",
   "execution_count": 37,
   "metadata": {},
   "outputs": [
    {
     "name": "stdout",
     "output_type": "stream",
     "text": [
      "\n",
      "January\n",
      "February\n",
      "March\n",
      "April\n",
      "May\n",
      "June\n",
      "July\n",
      "August\n",
      "September\n",
      "October\n",
      "November\n",
      "December\n"
     ]
    }
   ],
   "source": [
    "for name in calendar.month_name:\n",
    "    print(name)"
   ]
  },
  {
   "cell_type": "code",
   "execution_count": 38,
   "metadata": {},
   "outputs": [
    {
     "name": "stdout",
     "output_type": "stream",
     "text": [
      "Monday\n",
      "Tuesday\n",
      "Wednesday\n",
      "Thursday\n",
      "Friday\n",
      "Saturday\n",
      "Sunday\n"
     ]
    }
   ],
   "source": [
    "for day in calendar.day_name:\n",
    "    print(day)"
   ]
  },
  {
   "cell_type": "markdown",
   "metadata": {},
   "source": [
    "# Reading and Writing files"
   ]
  },
  {
   "cell_type": "code",
   "execution_count": 41,
   "metadata": {},
   "outputs": [
    {
     "name": "stdout",
     "output_type": "stream",
     "text": [
      "This is line #: 0\n",
      "\n",
      "This is line #: 1\n",
      "\n",
      "This is line #: 2\n",
      "\n",
      "This is line #: 3\n",
      "\n",
      "This is line #: 4\n",
      "\n",
      "This is line #: 5\n",
      "\n",
      "This is line #: 6\n",
      "\n",
      "This is line #: 7\n",
      "\n",
      "This is line #: 8\n",
      "\n",
      "This is line #: 9\n",
      "\n",
      "This is line #: 0\n",
      "\n",
      "This is line #: 1\n",
      "\n",
      "This is line #: 2\n",
      "\n",
      "This is line #: 3\n",
      "\n",
      "This is line #: 4\n",
      "\n",
      "This is line #: 5\n",
      "\n",
      "This is line #: 6\n",
      "\n",
      "This is line #: 7\n",
      "\n",
      "This is line #: 8\n",
      "\n",
      "This is line #: 9\n",
      "\n",
      "\n"
     ]
    }
   ],
   "source": [
    "def main():\n",
    "#     f=open(\"textfile.txt\",\"w+\")\n",
    "#     f=open(\"textfile.txt\",\"a\")\n",
    "    f=open(\"textfile.txt\",\"r\")\n",
    "    if f.mode == 'r':\n",
    "        contents=f.read()\n",
    "        print(contents)\n",
    "#     for i in range(10):\n",
    "#         f.write(\"This is line #: \"+str(i)+\"\\r\\n\")\n",
    "    f.close()\n",
    "main()"
   ]
  },
  {
   "cell_type": "code",
   "execution_count": 64,
   "metadata": {},
   "outputs": [
    {
     "name": "stdout",
     "output_type": "stream",
     "text": [
      "nt\n",
      "Item exists: False\n",
      "Item is a directory: False\n"
     ]
    }
   ],
   "source": [
    "import os\n",
    "import shutil\n",
    "from shutil import make_archive\n",
    "from datetime import date\n",
    "from datetime import time\n",
    "from datetime import datetime \n",
    "from os import path\n",
    "\n",
    "def main():\n",
    "    print(os.name)\n",
    "    print(\"Item exists: \"+str(path.exists(\"textfile.txt\")))\n",
    "    print(\"Item is a directory: \"+str(path.isdir(\"textfile.txt\")))\n",
    "#     t=time.ctime(path.getmtime(\"textfile.txt\"))\n",
    "#     print(t)\n",
    "#     print(datetime.datetime.fromtimestamp(path.getmtime(\"textfile.txt\")))\n",
    "main()"
   ]
  },
  {
   "cell_type": "code",
   "execution_count": 65,
   "metadata": {},
   "outputs": [],
   "source": [
    "def main():\n",
    "    if path.exists(\"textfile.txt\"):\n",
    "        src=path.realpath(\"textfile.txt\")\n",
    "        dst=src+\".bak\"\n",
    "        os.rename(\"textfile.txt\",\"newfile.txt\")\n",
    "        root_dir, tail=path.split(src)\n",
    "        shutil.make_archive(\"archive\",\"zip\",root_dir)\n",
    "#         shutil.copy(src,dst)\n",
    "main()"
   ]
  },
  {
   "cell_type": "markdown",
   "metadata": {},
   "source": [
    "# Fetching Internet Data | Working with JSON data"
   ]
  },
  {
   "cell_type": "code",
   "execution_count": 75,
   "metadata": {},
   "outputs": [
    {
     "name": "stdout",
     "output_type": "stream",
     "text": [
      "result code: 200\n"
     ]
    }
   ],
   "source": [
    "import urllib.request\n",
    "import json\n",
    "\n",
    "def printResults(data):\n",
    "    theJSON=json.loads(data)\n",
    "    if \"title\" in theJSON[\"metadata\"]:\n",
    "        print(theJSON[\"metadata\"][\"title\"])\n",
    "    count=theJSON[\"metadata\"][\"count\"]\n",
    "    print(str(count)+\" events rescorded\")\n",
    "    \n",
    "def main():\n",
    "    webUrl=urllib.request.urlopen(\"http://www.google.com\")\n",
    "    print(\"result code: \"+str(webUrl.getcode()))\n",
    "    data=webUrl.read()\n",
    "#     print(data)\n",
    "#     if(webUrl.getcode()==200):\n",
    "#         data=webUrl.read()\n",
    "#         printResults(data)\n",
    "#     else:\n",
    "#         print(\"Recieved error, cannot parse results\")\n",
    "main()"
   ]
  },
  {
   "cell_type": "markdown",
   "metadata": {},
   "source": []
  },
  {
   "cell_type": "code",
   "execution_count": null,
   "metadata": {},
   "outputs": [],
   "source": []
  }
 ],
 "metadata": {
  "kernelspec": {
   "display_name": "Python 3",
   "language": "python",
   "name": "python3"
  },
  "language_info": {
   "codemirror_mode": {
    "name": "ipython",
    "version": 3
   },
   "file_extension": ".py",
   "mimetype": "text/x-python",
   "name": "python",
   "nbconvert_exporter": "python",
   "pygments_lexer": "ipython3",
   "version": "3.7.0"
  }
 },
 "nbformat": 4,
 "nbformat_minor": 2
}
