{
 "cells": [
  {
   "cell_type": "code",
   "execution_count": 26,
   "metadata": {
    "collapsed": true
   },
   "outputs": [
    {
     "name": "stdout",
     "output_type": "stream",
     "text": [
      "Requirement already satisfied: mobilechelonian in c:\\users\\pavilion\\anaconda3\\lib\\site-packages (0.5)\n",
      "Requirement already satisfied: ipywidgets>=7.0.0 in c:\\users\\pavilion\\anaconda3\\lib\\site-packages (from mobilechelonian) (7.4.1)\n",
      "Requirement already satisfied: IPython in c:\\users\\pavilion\\anaconda3\\lib\\site-packages (from mobilechelonian) (6.5.0)\n",
      "Requirement already satisfied: ipykernel>=4.5.1 in c:\\users\\pavilion\\anaconda3\\lib\\site-packages (from ipywidgets>=7.0.0->mobilechelonian) (4.10.0)\n",
      "Requirement already satisfied: widgetsnbextension~=3.4.0 in c:\\users\\pavilion\\anaconda3\\lib\\site-packages (from ipywidgets>=7.0.0->mobilechelonian) (3.4.1)\n",
      "Requirement already satisfied: traitlets>=4.3.1 in c:\\users\\pavilion\\anaconda3\\lib\\site-packages (from ipywidgets>=7.0.0->mobilechelonian) (4.3.2)\n",
      "Requirement already satisfied: nbformat>=4.2.0 in c:\\users\\pavilion\\anaconda3\\lib\\site-packages (from ipywidgets>=7.0.0->mobilechelonian) (4.4.0)\n",
      "Requirement already satisfied: jupyter_client in c:\\users\\pavilion\\anaconda3\\lib\\site-packages (from ipykernel>=4.5.1->ipywidgets>=7.0.0->mobilechelonian) (5.2.3)\n",
      "Requirement already satisfied: tornado>=4.0 in c:\\users\\pavilion\\anaconda3\\lib\\site-packages (from ipykernel>=4.5.1->ipywidgets>=7.0.0->mobilechelonian) (5.1)\n",
      "Requirement already satisfied: pygments in c:\\users\\pavilion\\anaconda3\\lib\\site-packages (from IPython->mobilechelonian) (2.2.0)\n",
      "Requirement already satisfied: jedi>=0.10 in c:\\users\\pavilion\\anaconda3\\lib\\site-packages (from IPython->mobilechelonian) (0.12.1)\n",
      "Requirement already satisfied: setuptools>=18.5 in c:\\users\\pavilion\\anaconda3\\lib\\site-packages (from IPython->mobilechelonian) (40.2.0)\n",
      "Requirement already satisfied: pickleshare in c:\\users\\pavilion\\anaconda3\\lib\\site-packages (from IPython->mobilechelonian) (0.7.4)\n",
      "Requirement already satisfied: prompt-toolkit<2.0.0,>=1.0.15 in c:\\users\\pavilion\\anaconda3\\lib\\site-packages (from IPython->mobilechelonian) (1.0.15)\n",
      "Requirement already satisfied: decorator in c:\\users\\pavilion\\anaconda3\\lib\\site-packages (from IPython->mobilechelonian) (4.3.0)\n",
      "Requirement already satisfied: simplegeneric>0.8 in c:\\users\\pavilion\\anaconda3\\lib\\site-packages (from IPython->mobilechelonian) (0.8.1)\n",
      "Requirement already satisfied: backcall in c:\\users\\pavilion\\anaconda3\\lib\\site-packages (from IPython->mobilechelonian) (0.1.0)\n",
      "Requirement already satisfied: colorama in c:\\users\\pavilion\\anaconda3\\lib\\site-packages (from IPython->mobilechelonian) (0.3.9)\n",
      "Requirement already satisfied: parso>=0.3.0 in c:\\users\\pavilion\\anaconda3\\lib\\site-packages (from jedi>=0.10->IPython->mobilechelonian) (0.3.1)\n",
      "Requirement already satisfied: jupyter-core in c:\\users\\pavilion\\anaconda3\\lib\\site-packages (from nbformat>=4.2.0->ipywidgets>=7.0.0->mobilechelonian) (4.4.0)\n",
      "Requirement already satisfied: ipython-genutils in c:\\users\\pavilion\\anaconda3\\lib\\site-packages (from nbformat>=4.2.0->ipywidgets>=7.0.0->mobilechelonian) (0.2.0)\n",
      "Requirement already satisfied: jsonschema!=2.5.0,>=2.4 in c:\\users\\pavilion\\anaconda3\\lib\\site-packages (from nbformat>=4.2.0->ipywidgets>=7.0.0->mobilechelonian) (2.6.0)\n",
      "Requirement already satisfied: six>=1.9.0 in c:\\users\\pavilion\\anaconda3\\lib\\site-packages (from prompt-toolkit<2.0.0,>=1.0.15->IPython->mobilechelonian) (1.11.0)\n",
      "Requirement already satisfied: wcwidth in c:\\users\\pavilion\\anaconda3\\lib\\site-packages (from prompt-toolkit<2.0.0,>=1.0.15->IPython->mobilechelonian) (0.1.7)\n",
      "Requirement already satisfied: notebook>=4.4.1 in c:\\users\\pavilion\\anaconda3\\lib\\site-packages (from widgetsnbextension~=3.4.0->ipywidgets>=7.0.0->mobilechelonian) (5.6.0)\n",
      "Requirement already satisfied: terminado>=0.8.1 in c:\\users\\pavilion\\anaconda3\\lib\\site-packages (from notebook>=4.4.1->widgetsnbextension~=3.4.0->ipywidgets>=7.0.0->mobilechelonian) (0.8.1)\n",
      "Requirement already satisfied: nbconvert in c:\\users\\pavilion\\anaconda3\\lib\\site-packages (from notebook>=4.4.1->widgetsnbextension~=3.4.0->ipywidgets>=7.0.0->mobilechelonian) (5.4.0)\n",
      "Requirement already satisfied: jinja2 in c:\\users\\pavilion\\anaconda3\\lib\\site-packages (from notebook>=4.4.1->widgetsnbextension~=3.4.0->ipywidgets>=7.0.0->mobilechelonian) (2.10)\n",
      "Requirement already satisfied: Send2Trash in c:\\users\\pavilion\\anaconda3\\lib\\site-packages (from notebook>=4.4.1->widgetsnbextension~=3.4.0->ipywidgets>=7.0.0->mobilechelonian) (1.5.0)\n",
      "Requirement already satisfied: pyzmq>=17 in c:\\users\\pavilion\\anaconda3\\lib\\site-packages (from notebook>=4.4.1->widgetsnbextension~=3.4.0->ipywidgets>=7.0.0->mobilechelonian) (17.1.2)\n",
      "Requirement already satisfied: prometheus-client in c:\\users\\pavilion\\anaconda3\\lib\\site-packages (from notebook>=4.4.1->widgetsnbextension~=3.4.0->ipywidgets>=7.0.0->mobilechelonian) (0.3.1)\n",
      "Requirement already satisfied: python-dateutil>=2.1 in c:\\users\\pavilion\\anaconda3\\lib\\site-packages (from jupyter_client->ipykernel>=4.5.1->ipywidgets>=7.0.0->mobilechelonian) (2.7.3)\n",
      "Requirement already satisfied: MarkupSafe>=0.23 in c:\\users\\pavilion\\anaconda3\\lib\\site-packages (from jinja2->notebook>=4.4.1->widgetsnbextension~=3.4.0->ipywidgets>=7.0.0->mobilechelonian) (1.0)\n",
      "Requirement already satisfied: mistune>=0.8.1 in c:\\users\\pavilion\\anaconda3\\lib\\site-packages (from nbconvert->notebook>=4.4.1->widgetsnbextension~=3.4.0->ipywidgets>=7.0.0->mobilechelonian) (0.8.3)\n",
      "Requirement already satisfied: entrypoints>=0.2.2 in c:\\users\\pavilion\\anaconda3\\lib\\site-packages (from nbconvert->notebook>=4.4.1->widgetsnbextension~=3.4.0->ipywidgets>=7.0.0->mobilechelonian) (0.2.3)\n",
      "Requirement already satisfied: bleach in c:\\users\\pavilion\\anaconda3\\lib\\site-packages (from nbconvert->notebook>=4.4.1->widgetsnbextension~=3.4.0->ipywidgets>=7.0.0->mobilechelonian) (2.1.4)\n",
      "Requirement already satisfied: pandocfilters>=1.4.1 in c:\\users\\pavilion\\anaconda3\\lib\\site-packages (from nbconvert->notebook>=4.4.1->widgetsnbextension~=3.4.0->ipywidgets>=7.0.0->mobilechelonian) (1.4.2)\n",
      "Requirement already satisfied: testpath in c:\\users\\pavilion\\anaconda3\\lib\\site-packages (from nbconvert->notebook>=4.4.1->widgetsnbextension~=3.4.0->ipywidgets>=7.0.0->mobilechelonian) (0.3.1)\n",
      "Requirement already satisfied: defusedxml in c:\\users\\pavilion\\anaconda3\\lib\\site-packages (from nbconvert->notebook>=4.4.1->widgetsnbextension~=3.4.0->ipywidgets>=7.0.0->mobilechelonian) (0.5.0)\n",
      "Requirement already satisfied: html5lib!=1.0b1,!=1.0b2,!=1.0b3,!=1.0b4,!=1.0b5,!=1.0b6,!=1.0b7,!=1.0b8,>=0.99999999pre in c:\\users\\pavilion\\anaconda3\\lib\\site-packages (from bleach->nbconvert->notebook>=4.4.1->widgetsnbextension~=3.4.0->ipywidgets>=7.0.0->mobilechelonian) (1.0.1)\n",
      "Requirement already satisfied: webencodings in c:\\users\\pavilion\\anaconda3\\lib\\site-packages (from html5lib!=1.0b1,!=1.0b2,!=1.0b3,!=1.0b4,!=1.0b5,!=1.0b6,!=1.0b7,!=1.0b8,>=0.99999999pre->bleach->nbconvert->notebook>=4.4.1->widgetsnbextension~=3.4.0->ipywidgets>=7.0.0->mobilechelonian) (0.5.1)\n"
     ]
    },
    {
     "name": "stderr",
     "output_type": "stream",
     "text": [
      "WARNING: You are using pip version 21.0.1; however, version 21.3.1 is available.\n",
      "You should consider upgrading via the 'c:\\users\\pavilion\\anaconda3\\python.exe -m pip install --upgrade pip' command.\n"
     ]
    },
    {
     "ename": "ImportError",
     "evalue": "cannot import name 'turtle' from 'mobilechelonian' (C:\\Users\\Pavilion\\Anaconda3\\lib\\site-packages\\mobilechelonian\\__init__.py)",
     "output_type": "error",
     "traceback": [
      "\u001b[1;31m---------------------------------------------------------------------------\u001b[0m",
      "\u001b[1;31mImportError\u001b[0m                               Traceback (most recent call last)",
      "\u001b[1;32m<ipython-input-26-cae0ebadf18a>\u001b[0m in \u001b[0;36m<module>\u001b[1;34m()\u001b[0m\n\u001b[0;32m      1\u001b[0m \u001b[0mget_ipython\u001b[0m\u001b[1;33m(\u001b[0m\u001b[1;33m)\u001b[0m\u001b[1;33m.\u001b[0m\u001b[0msystem\u001b[0m\u001b[1;33m(\u001b[0m\u001b[1;34m'pip install mobilechelonian'\u001b[0m\u001b[1;33m)\u001b[0m\u001b[1;33m\u001b[0m\u001b[0m\n\u001b[1;32m----> 2\u001b[1;33m \u001b[1;32mfrom\u001b[0m \u001b[0mmobilechelonian\u001b[0m \u001b[1;32mimport\u001b[0m \u001b[0mturtle\u001b[0m\u001b[1;33m\u001b[0m\u001b[0m\n\u001b[0m",
      "\u001b[1;31mImportError\u001b[0m: cannot import name 'turtle' from 'mobilechelonian' (C:\\Users\\Pavilion\\Anaconda3\\lib\\site-packages\\mobilechelonian\\__init__.py)"
     ]
    }
   ],
   "source": [
    "!pip install mobilechelonian"
   ]
  },
  {
   "cell_type": "code",
   "execution_count": 28,
   "metadata": {},
   "outputs": [],
   "source": [
    "from mobilechelonian import Turtle"
   ]
  },
  {
   "cell_type": "code",
   "execution_count": 162,
   "metadata": {},
   "outputs": [
    {
     "data": {
      "application/vnd.jupyter.widget-view+json": {
       "model_id": "908257bda29f4847b3a123b190f16544",
       "version_major": 2,
       "version_minor": 0
      },
      "text/plain": [
       "Turtle()"
      ]
     },
     "metadata": {},
     "output_type": "display_data"
    }
   ],
   "source": [
    "t = Turtle()\n",
    "# t.forward(10)\n",
    "t.speed(100)\n",
    "t.right(90)\n",
    "t.forward(40)\n",
    "t.right(180)\n",
    "t.forward(20)\n",
    "t.right(90)\n",
    "t.forward(20)\n",
    "t.right(-90)\n",
    "t.forward(20)\n",
    "t.right(180)\n",
    "t.forward(40)\n",
    "t.right(-145)\n",
    "t.forward(40)\n",
    "t.right(145)\n",
    "t.forward(40)\n",
    "t.right(180)\n",
    "t.forward(20)\n",
    "t.right(-90)\n",
    "t.forward(20)\n",
    "t.right(180)\n",
    "t.forward(20)\n",
    "t.right(90)\n",
    "t.forward(20)\n",
    "t.right(-90)\n",
    "t.forward(5)\n",
    "t.right(-90)\n",
    "t.forward(40)\n",
    "t.right(90)\n",
    "t.right(45)\n",
    "t.forward(20)\n",
    "t.right(90)\n",
    "t.forward(20)\n",
    "t.right(-135)\n",
    "t.right(90)\n",
    "t.forward(16)\n",
    "t.right(-90)\n",
    "t.forward(5)\n",
    "t.right(90)\n",
    "t.forward(40)\n",
    "t.right(180)\n",
    "t.forward(40)\n",
    "t.right(90)\n",
    "t.right(45)\n",
    "t.forward(20)\n",
    "t.right(90)\n",
    "t.forward(20)\n",
    "t.right(45)\n",
    "t.right(90)\n",
    "t.forward(20)\n",
    "t.right(180)\n",
    "t.forward(40)\n",
    "t.forward(5)\n",
    "t.right(90)\n",
    "t.right(180)\n",
    "t.forward(5)\n",
    "t.right(90)\n",
    "t.forward(40)\n",
    "t.right(180)\n",
    "t.forward(40)\n",
    "t.right(90)\n",
    "t.right(45)\n",
    "t.forward(20)\n",
    "t.right(90)\n",
    "t.forward(20)\n",
    "t.right(45)\n",
    "t.right(90)\n",
    "t.right(180)\n",
    "t.forward(20)\n",
    "t.right(-45)\n",
    "t.forward(20)\n",
    "t.right(90)\n",
    "t.right(180)\n",
    "t.forward(20)\n",
    "t.right(180)\n",
    "t.forward(20)\n",
    "t.right(45)\n",
    "t.right(-90)\n",
    "t.forward(80)"
   ]
  },
  {
   "cell_type": "code",
   "execution_count": 21,
   "metadata": {},
   "outputs": [],
   "source": [
    "# import turtle"
   ]
  },
  {
   "cell_type": "code",
   "execution_count": 22,
   "metadata": {},
   "outputs": [],
   "source": [
    "# s = turtle.Screen()\n",
    "# t = turtle.Turtle()"
   ]
  },
  {
   "cell_type": "code",
   "execution_count": 30,
   "metadata": {},
   "outputs": [],
   "source": [
    "# def move_to(x,y):\n",
    "#     t.penup()\n",
    "#     t.goto(x,y)\n",
    "#     t.pendown()\n",
    "# def draw_rectangle(a,b):\n",
    "#     t.begin_fill()\n",
    "#     t.forward(a)\n",
    "#     t.left(90)\n",
    "#     t.forward(b)\n",
    "#     t.left(90)\n",
    "#     t.forward(a)\n",
    "#     t.left(90)\n",
    "#     t.forward(b)\n",
    "#     t.end_fill()\n",
    "#     t.speed(10)    "
   ]
  },
  {
   "cell_type": "code",
   "execution_count": 32,
   "metadata": {},
   "outputs": [
    {
     "ename": "TypeError",
     "evalue": "'str' object is not callable",
     "output_type": "error",
     "traceback": [
      "\u001b[1;31m---------------------------------------------------------------------------\u001b[0m",
      "\u001b[1;31mTypeError\u001b[0m                                 Traceback (most recent call last)",
      "\u001b[1;32m<ipython-input-32-2165b9f966ff>\u001b[0m in \u001b[0;36m<module>\u001b[1;34m()\u001b[0m\n\u001b[1;32m----> 1\u001b[1;33m \u001b[0mt\u001b[0m\u001b[1;33m.\u001b[0m\u001b[0mcolor\u001b[0m\u001b[1;33m(\u001b[0m\u001b[1;34m\"red\"\u001b[0m\u001b[1;33m)\u001b[0m\u001b[1;33m\u001b[0m\u001b[0m\n\u001b[0m\u001b[0;32m      2\u001b[0m \u001b[0mmove_to\u001b[0m\u001b[1;33m(\u001b[0m\u001b[1;33m-\u001b[0m\u001b[1;36m500\u001b[0m\u001b[1;33m,\u001b[0m\u001b[1;36m200\u001b[0m\u001b[1;33m)\u001b[0m\u001b[1;33m\u001b[0m\u001b[0m\n\u001b[0;32m      3\u001b[0m \u001b[0mdraw_rectangle\u001b[0m\u001b[1;33m(\u001b[0m\u001b[1;36m10\u001b[0m\u001b[1;33m,\u001b[0m\u001b[1;36m100\u001b[0m\u001b[1;33m)\u001b[0m\u001b[1;33m\u001b[0m\u001b[0m\n\u001b[0;32m      4\u001b[0m \u001b[0mmove_to\u001b[0m\u001b[1;33m(\u001b[0m\u001b[1;33m-\u001b[0m\u001b[1;36m490\u001b[0m\u001b[1;33m,\u001b[0m\u001b[1;36m250\u001b[0m\u001b[1;33m)\u001b[0m\u001b[1;33m\u001b[0m\u001b[0m\n\u001b[0;32m      5\u001b[0m \u001b[0mt\u001b[0m\u001b[1;33m.\u001b[0m\u001b[0mleft\u001b[0m\u001b[1;33m(\u001b[0m\u001b[1;36m90\u001b[0m\u001b[1;33m)\u001b[0m\u001b[1;33m\u001b[0m\u001b[0m\n",
      "\u001b[1;31mTypeError\u001b[0m: 'str' object is not callable"
     ]
    }
   ],
   "source": [
    "# t.color(\"red\")\n",
    "# move_to(-500,200)\n",
    "# draw_rectangle(10,100)\n",
    "# move_to(-490,250)\n",
    "# t.left(90)\n",
    "# draw_rectangle(80,10)\n",
    "# move_to(-410,200)\n",
    "# t.left(90)\n",
    "# draw_rectangle(10,100)\n",
    "# move_to(-380,200)\n",
    "# t.left(60)\n",
    "# t.color(\"yellow\")\n",
    "# draw_rectangle(10,122)\n",
    "# move_to(-275,198)\n",
    "# t.left(145)\n",
    "# draw_rectangle(10,110)\n",
    "# move_to(-350,230)\n",
    "# t.left(335)\n",
    "# draw_rectangle(10,63)\n",
    "# move_to(-240,198)\n",
    "# t.left(270)\n",
    "# t.color(\"green\")\n",
    "# draw_rectangle(100,10)\n",
    "# move_to(-240,288)\n",
    "# draw_rectangle(50,10)\n",
    "# move_to(-190,288)\n",
    "# draw_rectangle(40,10)\n",
    "# move_to(-190,248)\n",
    "# draw_rectangle(50,10)\n",
    "# move_to(-160,198)\n",
    "# t.color(\"violet\")\n",
    "# draw_rectangle(100,10)\n",
    "# move_to(-160,288)\n",
    "# draw_rectangle(50,10)\n",
    "# move_to(-110,288)\n",
    "# draw_rectangle(40,10)\n",
    "# move_to(-110,248)\n",
    "# draw_rectangle(50,10)\n",
    "# move_to(-80,198)"
   ]
  },
  {
   "cell_type": "code",
   "execution_count": 7,
   "metadata": {},
   "outputs": [],
   "source": [
    "# t.left(320)\n",
    "# t.color(\"orange\")\n",
    "# draw_rectangle(120,10)\n",
    "# move_to(-100,295)\n",
    "# draw_rectangle(68,10)\n",
    "# move_to(-500,80)\n",
    "# t.left(40)\n",
    "# t.color(\"blue\")\n",
    "# draw_rectangle(100,10)\n",
    "# t.left(180)\n",
    "# move_to(-490,70)\n",
    "# draw_rectangle(50,10)\n",
    "# t.left(90)\n",
    "# t.fd(50)\n",
    "# t.right(90)\n",
    "# draw_rectangle(80,10)\n",
    "# t.left(90)\n",
    "# t.fd(80)\n",
    "# t.left(270)\n",
    "# draw_rectangle(50,10)\n",
    "# move_to(-400,80)\n",
    "# t.left(180)\n",
    "# t.color(\"pink\")\n",
    "# draw_rectangle(100,10)\n",
    "# move_to(-220,70)\n",
    "# t.left(60)\n",
    "# t.color(\"brown\")\n",
    "# draw_rectangle(100,10)\n",
    "# t.left(300)\n",
    "# move_to(-370,70)\n",
    "# t.right(152)\n",
    "# draw_rectangle(100,10)\n",
    "# t.left(152)\n",
    "# move_to(-290,10)\n",
    "# t.right(45)\n",
    "# draw_rectangle(40,10)\n",
    "# t.right(3)\n",
    "# draw_rectangle(40,10)\n",
    "# move_to(-200,-15)\n",
    "# t.left(200)\n",
    "# t.color(\"darkgreen\")\n",
    "# draw_rectangle(10,110)\n",
    "# move_to(-95,-20)\n",
    "# t.left(145)\n",
    "# draw_rectangle(10,114)\n",
    "# move_to(-175,25)\n",
    "# t.left(333)\n",
    "# draw_rectangle(10,63)\n",
    "# move_to(-70,79)\n",
    "# t.left(90)\n",
    "# t.color(\"skyblue\")\n",
    "# draw_rectangle(101,10)\n",
    "# move_to(-60,-22)\n",
    "# t.left(180)\n",
    "# draw_rectangle(80,10)\n",
    "# move_to(50,-22)\n",
    "# t.left(180)\n",
    "# t.color(\"black\")\n",
    "# draw_rectangle(100,10)\n",
    "# move_to(300,150)\n",
    "# t.color(\"red\")"
   ]
  },
  {
   "cell_type": "code",
   "execution_count": 8,
   "metadata": {},
   "outputs": [],
   "source": [
    "# angle=0\n",
    "# for i in range(20):\n",
    "#     t.fd(50)\n",
    "#     move_to(300,150)\n",
    "#     angle+=18\n",
    "#     t.left(angle)\n",
    "# move_to(450,150)\n",
    "# t.color(\"blue\")"
   ]
  },
  {
   "cell_type": "code",
   "execution_count": 9,
   "metadata": {},
   "outputs": [],
   "source": [
    "# angle=0\n",
    "# for i in range(20):\n",
    "#     t.fd(50)\n",
    "#     angle+=18\n",
    "#     t.left(angle)\n",
    "#     move_to(450,150)\n",
    "# move_to(375,300)\n",
    "# t.color(\"green\")"
   ]
  },
  {
   "cell_type": "code",
   "execution_count": 10,
   "metadata": {},
   "outputs": [],
   "source": [
    "# angle=0\n",
    "# for i in range(20):\n",
    "#     t.fd(50)\n",
    "#     angle+=18\n",
    "#     t.left(angle)\n",
    "#     move_to(375,300)\n",
    "# move_to(375,-300)\n",
    "# t.color(\"black\")"
   ]
  },
  {
   "cell_type": "code",
   "execution_count": 11,
   "metadata": {},
   "outputs": [],
   "source": [
    "# angle=0\n",
    "# for i in range(20):\n",
    "#     t.fd(50)\n",
    "#     angle+=18\n",
    "#     t.left(angle)\n",
    "#     move_to(375,-300)\n",
    "# move_to(150,-150)\n",
    "# t.color(\"violet\")"
   ]
  },
  {
   "cell_type": "code",
   "execution_count": 12,
   "metadata": {},
   "outputs": [],
   "source": [
    "# angle=0\n",
    "# for i in range(20):\n",
    "#     t.fd(50)\n",
    "#     angle+=18\n",
    "#     t.left(angle)\n",
    "#     move_to(150,-150)\n",
    "# move_to(450,-150)\n",
    "# t.color(\"brown\")"
   ]
  },
  {
   "cell_type": "code",
   "execution_count": 13,
   "metadata": {},
   "outputs": [],
   "source": [
    "# angle=0\n",
    "# for i in range(20):\n",
    "#     t.fd(50)\n",
    "#     angle+=18\n",
    "#     t.left(angle)\n",
    "#     move_to(450,-150)\n",
    "# move_to(-200,-300)\n",
    "# t.color(\"green\")"
   ]
  },
  {
   "cell_type": "code",
   "execution_count": 14,
   "metadata": {},
   "outputs": [],
   "source": [
    "# angle=0\n",
    "# for i in range(20):\n",
    "#     t.fd(50)\n",
    "#     angle+=18\n",
    "#     t.left(angle)\n",
    "#     move_to(-200,-300)\n",
    "# move_to(125,0)\n",
    "# t.color(\"yellow\")"
   ]
  },
  {
   "cell_type": "code",
   "execution_count": 15,
   "metadata": {},
   "outputs": [],
   "source": [
    "# angle=0\n",
    "# for i in range(20):\n",
    "#     t.fd(50)\n",
    "#     angle+=18\n",
    "#     t.left(angle)\n",
    "#     move_to(125,0)\n",
    "# t.color(\"pink\")"
   ]
  },
  {
   "cell_type": "code",
   "execution_count": 16,
   "metadata": {},
   "outputs": [],
   "source": [
    "# angle=0\n",
    "# move_to(-100,-200)\n",
    "# for i in range(20):\n",
    "#     t.fd(50)\n",
    "#     angle+=18\n",
    "#     t.left(angle)\n",
    "#     move_to(-100,-200)\n",
    "# t.color(\"lightgreen\")"
   ]
  },
  {
   "cell_type": "code",
   "execution_count": 17,
   "metadata": {},
   "outputs": [],
   "source": [
    "# angle=0\n",
    "# move_to(300,0)\n",
    "# for i in range(20):\n",
    "#     t.fd(50)\n",
    "#     angle+=18\n",
    "#     t.left(angle)\n",
    "#     move_to(300,0)\n",
    "# t.color(\"skyblue\")\n",
    "# angle=0\n",
    "# move_to(-500,-240)\n",
    "# for i in range(20):\n",
    "#     t.fd(50)\n",
    "#     angle+=18\n",
    "#     t.left(angle)\n",
    "#     move_to(-500,-240)\n",
    "# t.color(\"orange\")\n",
    "# angle=0\n",
    "# move_to(-350,-170)\n",
    "# for i in range(20):\n",
    "#     t.fd(50)\n",
    "#     angle+=18\n",
    "#     t.left(angle)\n",
    "#     move_to(-350,-170)\n",
    "# t.color(\"black\")\n",
    "# angle=0\n",
    "# move_to(500,20)\n",
    "# for i in range(20):\n",
    "#     t.fd(50)\n",
    "#     angle+=18\n",
    "#     t.left(angle)\n",
    "#     move_to(500,20)"
   ]
  },
  {
   "cell_type": "code",
   "execution_count": null,
   "metadata": {},
   "outputs": [],
   "source": []
  }
 ],
 "metadata": {
  "kernelspec": {
   "display_name": "Python 3",
   "language": "python",
   "name": "python3"
  },
  "language_info": {
   "codemirror_mode": {
    "name": "ipython",
    "version": 3
   },
   "file_extension": ".py",
   "mimetype": "text/x-python",
   "name": "python",
   "nbconvert_exporter": "python",
   "pygments_lexer": "ipython3",
   "version": "3.7.0"
  }
 },
 "nbformat": 4,
 "nbformat_minor": 2
}
