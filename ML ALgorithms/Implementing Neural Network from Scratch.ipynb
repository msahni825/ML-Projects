{
 "cells": [
  {
   "cell_type": "code",
   "execution_count": 2,
   "metadata": {},
   "outputs": [
    {
     "name": "stdout",
     "output_type": "stream",
     "text": [
      "Collecting tabulate\n",
      "  Downloading tabulate-0.8.9-py3-none-any.whl (25 kB)\n",
      "Installing collected packages: tabulate\n",
      "Successfully installed tabulate-0.8.9\n"
     ]
    },
    {
     "name": "stderr",
     "output_type": "stream",
     "text": [
      "WARNING: You are using pip version 21.0.1; however, version 21.3 is available.\n",
      "You should consider upgrading via the 'c:\\users\\pavilion\\anaconda3\\python.exe -m pip install --upgrade pip' command.\n"
     ]
    }
   ],
   "source": [
    "!pip3 install tabulate\n",
    "import numpy as np\n",
    "import tabulate"
   ]
  },
  {
   "cell_type": "code",
   "execution_count": 4,
   "metadata": {},
   "outputs": [],
   "source": [
    "class NeuralNetwork:\n",
    "    def __init__(self,x,y):\n",
    "        self.input = x   #input\n",
    "        self.weights1 = np.random.rand(self.input.shape[1],4)   #we want to optimize w1 and w2\n",
    "        self.weights2 = np.random.rand(4,1)\n",
    "        self.y = y    #output\n",
    "        self.a2 = np.zeros(y.shape)  #predicted output"
   ]
  },
  {
   "cell_type": "code",
   "execution_count": 27,
   "metadata": {},
   "outputs": [],
   "source": [
    "def sigmoid(x):\n",
    "    return 1.0/(1 + np.exp(-x))\n",
    "    \n",
    "class NeuralNetwork:    \n",
    "    def __intit__(self,x,y):\n",
    "        self.input = x\n",
    "        self.weights1 = np.random.rand(self.input.shape[1], 4) \n",
    "        self.weights2 = np.random.rand(4,1)\n",
    "        self.y = y\n",
    "        self.a2 = np.zeros(self.y.shape)\n",
    "        \n",
    "    def feedforward(self):\n",
    "        self.a1 = sigmoid(np.dot(self.input, self.weights1))  #layer-1 output\n",
    "        self.a2 = sigmoid(np.dot(self.a1, self.weights2))     #layer-2 output"
   ]
  },
  {
   "cell_type": "code",
   "execution_count": 43,
   "metadata": {},
   "outputs": [],
   "source": [
    "import numpy as np\n",
    "\n",
    "def sigmoid(x):\n",
    "    return 1.0/(1 + np.exp(-x))\n",
    "\n",
    "def sigmoid_derivative(x):\n",
    "    return x * (1.0 - x)\n",
    "\n",
    "class NeuralNetwork:\n",
    "    def __init__(self, x, y):\n",
    "        self.input = x\n",
    "        self.weights1 = np.random.rand(self.input.shape[1], 4) \n",
    "        self.weights2 = np.random.rand(4,1)\n",
    "        self.y = y\n",
    "        self.a2 = np.zeros(self.y.shape)\n",
    "        self.loss = []\n",
    "        \n",
    "#     def sigmoid(x):\n",
    "#         return 1.0/(1 + np.exp(-x))\n",
    "\n",
    "#     def sigmoid_derivative(x):\n",
    "#         return x * (1.0 - x)\n",
    "    \n",
    "    def feedforward(self):\n",
    "        self.a1 = sigmoid(np.dot(self.input, self.weights1))  #layer-1 output\n",
    "        self.a2 = sigmoid(np.dot(self.a1, self.weights2))     #layer-2 output\n",
    "    \n",
    "    def backprop(self):\n",
    "        #application of the chain rule to find the derivative of the loss function with respect to weights1 and weights2\n",
    "        d_weights2 = np.dot(self.a1.T, (2*(self.y - self.a2) * sigmoid_derivative(self.a2)))\n",
    "        d_weights1 = np.dot(self.input.T, (np.dot(2 *(self.y - self.a2) * sigmoid_derivative(self.a2), self.weights2.T)))\n",
    "\n",
    "        #update the weights with the derivative(loss) of the function\n",
    "        self.weights1 += d_weights1\n",
    "        self.weights2 += d_weights2    "
   ]
  },
  {
   "cell_type": "markdown",
   "metadata": {},
   "source": [
    "# Dummy Dataset"
   ]
  },
  {
   "cell_type": "code",
   "execution_count": 44,
   "metadata": {},
   "outputs": [],
   "source": [
    "X = np.array([[0,0,0],\n",
    "             [0,1,1],\n",
    "             [1,0,1],\n",
    "             [1,1,1]])\n",
    "y = np.array([[0], [1], [1], [0]])"
   ]
  },
  {
   "cell_type": "code",
   "execution_count": 47,
   "metadata": {},
   "outputs": [
    {
     "data": {
      "text/html": [
       "<table>\n",
       "<thead>\n",
       "<tr><th style=\"text-align: right;\">  Actual</th><th style=\"text-align: right;\">  Predicted</th></tr>\n",
       "</thead>\n",
       "<tbody>\n",
       "<tr><td style=\"text-align: right;\">       0</td><td style=\"text-align: right;\">  0.0178165</td></tr>\n",
       "<tr><td style=\"text-align: right;\">       1</td><td style=\"text-align: right;\">  0.981219 </td></tr>\n",
       "<tr><td style=\"text-align: right;\">       1</td><td style=\"text-align: right;\">  0.981256 </td></tr>\n",
       "<tr><td style=\"text-align: right;\">       0</td><td style=\"text-align: right;\">  0.0216933</td></tr>\n",
       "</tbody>\n",
       "</table>"
      ],
      "text/plain": [
       "'<table>\\n<thead>\\n<tr><th style=\"text-align: right;\">  Actual</th><th style=\"text-align: right;\">  Predicted</th></tr>\\n</thead>\\n<tbody>\\n<tr><td style=\"text-align: right;\">       0</td><td style=\"text-align: right;\">  0.0178165</td></tr>\\n<tr><td style=\"text-align: right;\">       1</td><td style=\"text-align: right;\">  0.981219 </td></tr>\\n<tr><td style=\"text-align: right;\">       1</td><td style=\"text-align: right;\">  0.981256 </td></tr>\\n<tr><td style=\"text-align: right;\">       0</td><td style=\"text-align: right;\">  0.0216933</td></tr>\\n</tbody>\\n</table>'"
      ]
     },
     "execution_count": 47,
     "metadata": {},
     "output_type": "execute_result"
    }
   ],
   "source": [
    "nn = NeuralNetwork(X,y)\n",
    "loss = []\n",
    "\n",
    "for i in range(1500):\n",
    "    nn.feedforward()\n",
    "    loss.append(np.square(np.subtract(y,nn.a2)).mean())\n",
    "    nn.backprop()\n",
    "\n",
    "table = [[y[0], pred[0]] for y, pred in zip(y, nn.a2)]\n",
    "tabulate.tabulate(table, tablefmt='html', headers=['Actual', 'Predicted'])"
   ]
  },
  {
   "cell_type": "code",
   "execution_count": 49,
   "metadata": {},
   "outputs": [
    {
     "data": {
      "text/plain": [
       "Text(0.5,1,'Loss per iteration')"
      ]
     },
     "execution_count": 49,
     "metadata": {},
     "output_type": "execute_result"
    },
    {
     "data": {
      "image/png": "[encoded data removed]",
      "text/plain": [
       "<Figure size 432x288 with 1 Axes>"
      ]
     },
     "metadata": {
      "needs_background": "light"
     },
     "output_type": "display_data"
    }
   ],
   "source": [
    "import matplotlib.pyplot as plt\n",
    "x = range(0,len(loss))\n",
    "plt.plot(x, loss)\n",
    "plt.xlabel('Iterations')\n",
    "plt.ylabel('Loss')\n",
    "plt.title('Loss per iteration')"
   ]
  },
  {
   "cell_type": "code",
   "execution_count": null,
   "metadata": {},
   "outputs": [],
   "source": []
  }
 ],
 "metadata": {
  "kernelspec": {
   "display_name": "Python 3",
   "language": "python",
   "name": "python3"
  },
  "language_info": {
   "codemirror_mode": {
    "name": "ipython",
    "version": 3
   },
   "file_extension": ".py",
   "mimetype": "text/x-python",
   "name": "python",
   "nbconvert_exporter": "python",
   "pygments_lexer": "ipython3",
   "version": "3.7.0"
  }
 },
 "nbformat": 4,
 "nbformat_minor": 2
}
