{
 "cells": [
  {
   "cell_type": "code",
   "execution_count": 3,
   "metadata": {},
   "outputs": [
    {
     "name": "stdout",
     "output_type": "stream",
     "text": [
      "Jimmy is a mammal\n",
      "Tommy is a mammal\n",
      "My name is Jimmy\n",
      "My name is Tommy\n"
     ]
    }
   ],
   "source": [
    "class Dog:\n",
    "    #class attribute\n",
    "    attr1 = \"mammal\"\n",
    "    \n",
    "    #instance attribute\n",
    "    def __init__(self,name):\n",
    "        self.name=name\n",
    "        \n",
    "    def speak(self):\n",
    "        print(\"My name is {}\".format(self.name))\n",
    "    \n",
    "#Object Instantiation\n",
    "Jimmy = Dog(\"Jimmy\")\n",
    "Tommy = Dog(\"Tommy\")\n",
    "\n",
    "print(\"Jimmy is a {}\".format(Jimmy.__class__.attr1))\n",
    "print(\"Tommy is a {}\".format(Tommy.__class__.attr1))\n",
    "\n",
    "#Accessing class methods\n",
    "Jimmy.speak()\n",
    "Tommy.speak()"
   ]
  },
  {
   "cell_type": "markdown",
   "metadata": {},
   "source": [
    "# Inheritance"
   ]
  },
  {
   "cell_type": "code",
   "execution_count": 5,
   "metadata": {},
   "outputs": [
    {
     "name": "stdout",
     "output_type": "stream",
     "text": [
      "Ria\n",
      "896039\n",
      "My name is Ria\n",
      "My Id-Number is 896039\n",
      "My post is Intern\n"
     ]
    }
   ],
   "source": [
    "#Parent class\n",
    "class Person(object):\n",
    "    #__init__ is known as the constructor\n",
    "    def __init__(self,name,idnum):\n",
    "        self.name=name\n",
    "        self.idnum=idnum\n",
    "    \n",
    "    def display(self):\n",
    "        print(self.name)\n",
    "        print(self.idnum)\n",
    "        \n",
    "    def details(self):\n",
    "        print(\"My name is {}\".format(self.name))\n",
    "        print(\"Id-Number is {}\".format(self.idnum))\n",
    "\n",
    "#child class\n",
    "class Employee(Person):\n",
    "    def __init__(self,name,idnum,salary,post):\n",
    "        self.salary=salary\n",
    "        self.post=post\n",
    "        \n",
    "        # invoking the __init__ of the parent class   \n",
    "        Person.__init__(self,name,idnum)\n",
    "        \n",
    "    def details(self):\n",
    "        print(\"My name is {}\".format(self.name))\n",
    "        print(\"My Id-Number is {}\".format(self.idnum))\n",
    "        print(\"My post is {}\".format(self.post))\n",
    "        \n",
    "# creation of an object variable or an instance\n",
    "a = Employee('Ria',896039,893624,'Intern')\n",
    "\n",
    "# calling a function of the class Person using its instance\n",
    "a.display()\n",
    "a.details()\n",
    "\n",
    "#The Employee class inherits from the Person class. \n",
    "#We can use the methods of the person class through employee class as seen in the display function in the above code. \n",
    "#A child class can also modify the behavior of the parent class as seen through the details() method."
   ]
  },
  {
   "cell_type": "markdown",
   "metadata": {},
   "source": [
    "# Encapsulation"
   ]
  },
  {
   "cell_type": "code",
   "execution_count": 15,
   "metadata": {},
   "outputs": [],
   "source": [
    "#Creating a base class\n",
    "class Base:\n",
    "    def __int__(self):\n",
    "        self.a = \"Python3\"\n",
    "        self.__c = \"Python3\"\n",
    "        \n",
    "#creating a derived class\n",
    "class Derived(Base):\n",
    "    def __init__(self):\n",
    "        #calling constructor of base class\n",
    "        Base.__init__(self)\n",
    "        print(\"calling private members of base class\")\n",
    "        #private member of base class called inside derived class\n",
    "        print(self.__c)\n",
    "\n",
    "obj1 = Base()\n",
    "# print(obj1.a)"
   ]
  },
  {
   "cell_type": "markdown",
   "metadata": {},
   "source": [
    "# Polymorphism"
   ]
  },
  {
   "cell_type": "code",
   "execution_count": 19,
   "metadata": {},
   "outputs": [
    {
     "name": "stdout",
     "output_type": "stream",
     "text": [
      "Birds are of many types\n",
      "Some birds can fly, some cannot fly\n",
      "Sparrow can fly\n",
      "Ostrich cannot fly\n"
     ]
    }
   ],
   "source": [
    "#concept here is, having many forms\n",
    "class Bird:\n",
    "    def __init__(self):\n",
    "        pass\n",
    "    \n",
    "    def intro(self):\n",
    "        print(\"Birds are of many types\")\n",
    "        \n",
    "    def flight(self):\n",
    "        print(\"Some birds can fly, some cannot fly\")\n",
    "        \n",
    "class ostrich(Bird):\n",
    "    def flight(self):\n",
    "        print(\"Ostrich cannot fly\")\n",
    "\n",
    "class sparrow(Bird):\n",
    "    def flight(self):\n",
    "        print(\"Sparrow can fly\")\n",
    "        \n",
    "obj_ost = ostrich()\n",
    "obj_spw = sparrow()\n",
    "obj_bird = Bird()\n",
    "\n",
    "obj_bird.intro()\n",
    "obj_bird.flight()\n",
    "\n",
    "# obj_spw.intro()\n",
    "obj_spw.flight()\n",
    "\n",
    "# obj_ost.intro()\n",
    "obj_ost.flight()"
   ]
  },
  {
   "cell_type": "code",
   "execution_count": null,
   "metadata": {},
   "outputs": [],
   "source": []
  }
 ],
 "metadata": {
  "kernelspec": {
   "display_name": "Python 3",
   "language": "python",
   "name": "python3"
  },
  "language_info": {
   "codemirror_mode": {
    "name": "ipython",
    "version": 3
   },
   "file_extension": ".py",
   "mimetype": "text/x-python",
   "name": "python",
   "nbconvert_exporter": "python",
   "pygments_lexer": "ipython3",
   "version": "3.7.0"
  }
 },
 "nbformat": 4,
 "nbformat_minor": 2
}
