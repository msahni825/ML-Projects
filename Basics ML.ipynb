{
 "cells": [
  {
   "cell_type": "code",
   "execution_count": null,
   "metadata": {},
   "outputs": [],
   "source": [
    "# Data Scientist — Build customer machine learning models to drive business decisions\n",
    "# Machine Learning Engineer — Write production-level code to predict with data\n",
    "# Data Analyst — Visualize and describe data; communicate insights to business\n",
    "# Data Engineer — Store and maintain data, build ETL pipelines and data warehouses"
   ]
  },
  {
   "cell_type": "code",
   "execution_count": 1,
   "metadata": {},
   "outputs": [
    {
     "data": {
      "text/plain": [
       "100"
      ]
     },
     "execution_count": 1,
     "metadata": {},
     "output_type": "execute_result"
    }
   ],
   "source": [
    "# python:3.7\n",
    "10**2\n",
    "# 10 power 2"
   ]
  },
  {
   "cell_type": "code",
   "execution_count": 6,
   "metadata": {},
   "outputs": [
    {
     "data": {
      "text/plain": [
       "bool"
      ]
     },
     "execution_count": 6,
     "metadata": {},
     "output_type": "execute_result"
    }
   ],
   "source": [
    "type(1.0)\n",
    "type('hello')\n",
    "type(True)\n",
    "#type of value"
   ]
  },
  {
   "cell_type": "code",
   "execution_count": 9,
   "metadata": {},
   "outputs": [
    {
     "name": "stdout",
     "output_type": "stream",
     "text": [
      "30\n",
      "10\n"
     ]
    }
   ],
   "source": [
    "# syntax, var_name=values\n",
    "a=10\n",
    "b=20\n",
    "print(a+b)\n",
    "print(a%b)"
   ]
  },
  {
   "cell_type": "code",
   "execution_count": 12,
   "metadata": {},
   "outputs": [],
   "source": [
    "first_name=\"megha\"\n",
    "last_name=\"sahni\""
   ]
  },
  {
   "cell_type": "code",
   "execution_count": 14,
   "metadata": {},
   "outputs": [
    {
     "name": "stdout",
     "output_type": "stream",
     "text": [
      "My first name is megha and last name is sahni\n"
     ]
    }
   ],
   "source": [
    "print(\"My first name is {first} and last name is {last}\".format(last=last_name,first=first_name))"
   ]
  },
  {
   "cell_type": "code",
   "execution_count": 15,
   "metadata": {},
   "outputs": [
    {
     "data": {
      "text/plain": [
       "11"
      ]
     },
     "execution_count": 15,
     "metadata": {},
     "output_type": "execute_result"
    }
   ],
   "source": [
    "str=\"megha sahni\"\n",
    "len(str)"
   ]
  },
  {
   "cell_type": "code",
   "execution_count": 17,
   "metadata": {},
   "outputs": [
    {
     "data": {
      "text/plain": [
       "list"
      ]
     },
     "execution_count": 17,
     "metadata": {},
     "output_type": "execute_result"
    }
   ],
   "source": [
    "type(['1',2,'3',4])"
   ]
  },
  {
   "cell_type": "code",
   "execution_count": 20,
   "metadata": {},
   "outputs": [
    {
     "data": {
      "text/plain": [
       "True"
      ]
     },
     "execution_count": 20,
     "metadata": {},
     "output_type": "execute_result"
    }
   ],
   "source": [
    "#video:05\n",
    "#boolean variables\n",
    "#boolean & logical operators\n",
    "#lists\n",
    "#comparison operations\n",
    "#HELPFUL WHEN PERFORMING: EXPLORARTORY DATA ANALYSIS\n",
    "#dictionaries\n",
    "#tuples\n",
    "#sets\n",
    "bool()\n",
    "bool(True)"
   ]
  },
  {
   "cell_type": "code",
   "execution_count": 21,
   "metadata": {},
   "outputs": [
    {
     "data": {
      "text/plain": [
       "True"
      ]
     },
     "execution_count": 21,
     "metadata": {},
     "output_type": "execute_result"
    }
   ],
   "source": [
    "True or False"
   ]
  },
  {
   "cell_type": "code",
   "execution_count": 22,
   "metadata": {},
   "outputs": [
    {
     "data": {
      "text/plain": [
       "False"
      ]
     },
     "execution_count": 22,
     "metadata": {},
     "output_type": "execute_result"
    }
   ],
   "source": [
    "True and False"
   ]
  },
  {
   "cell_type": "code",
   "execution_count": 45,
   "metadata": {},
   "outputs": [
    {
     "data": {
      "text/plain": [
       "15"
      ]
     },
     "execution_count": 45,
     "metadata": {},
     "output_type": "execute_result"
    }
   ],
   "source": [
    "list_example=[]\n",
    "type(list_example)\n",
    "# another way of declaring list\n",
    "l=list()\n",
    "l=['A','B',1,2]\n",
    "# print(l)\n",
    "len(l)\n",
    "l[0]\n",
    "l[:]\n",
    "# indexing tech to retrieve value\n",
    "l[1:]\n",
    "l.append(['megha','sahni'])\n",
    "l.extend([8,9])\n",
    "l.pop() #removes last element by default\n",
    "l.pop(5)\n",
    "ll=[1,2,3,4,5]\n",
    "sum(ll)"
   ]
  },
  {
   "cell_type": "code",
   "execution_count": 34,
   "metadata": {},
   "outputs": [
    {
     "name": "stdout",
     "output_type": "stream",
     "text": [
      "{'Sahni', 'Swahney', 'Sahani'}\n"
     ]
    },
    {
     "data": {
      "text/plain": [
       "set"
      ]
     },
     "execution_count": 34,
     "metadata": {},
     "output_type": "execute_result"
    }
   ],
   "source": [
    "# exploratory data analysis: SET, TUPLES\n",
    "# set: ordered collection data type that is iterable, mutable and has no duplicate elements\n",
    "set_var={\"Sahni\",\"Swahney\",\"Sahani\"}\n",
    "print(set_var)\n",
    "type(set_var)"
   ]
  },
  {
   "cell_type": "code",
   "execution_count": 9,
   "metadata": {},
   "outputs": [
    {
     "data": {
      "text/plain": [
       "set"
      ]
     },
     "execution_count": 9,
     "metadata": {},
     "output_type": "execute_result"
    }
   ],
   "source": [
    "#DICTONARIES: collection which is unordered, changeable and indexed \n",
    "dict={}\n",
    "dict={1,2,3,4,5}\n",
    "type(dict)"
   ]
  },
  {
   "cell_type": "code",
   "execution_count": 11,
   "metadata": {},
   "outputs": [
    {
     "name": "stdout",
     "output_type": "stream",
     "text": [
      "{'Car1': 'Audi', 'Car2': 'Manza', 'Car3': 'Eon'}\n"
     ]
    },
    {
     "data": {
      "text/plain": [
       "'Audi'"
      ]
     },
     "execution_count": 11,
     "metadata": {},
     "output_type": "execute_result"
    }
   ],
   "source": [
    "my_dict={\"Car1\":\"Audi\",\"Car2\":\"Manza\",\"Car3\":\"Eon\"}\n",
    "print(my_dict)\n",
    "type(my_dict)\n",
    "my_dict[\"Car1\"]"
   ]
  },
  {
   "cell_type": "code",
   "execution_count": 12,
   "metadata": {},
   "outputs": [
    {
     "name": "stdout",
     "output_type": "stream",
     "text": [
      "('Car1', 'Audi')\n",
      "('Car2', 'Manza')\n",
      "('Car3', 'Eon')\n"
     ]
    }
   ],
   "source": [
    "for x in my_dict.items():\n",
    "    print(x)"
   ]
  },
  {
   "cell_type": "code",
   "execution_count": 13,
   "metadata": {},
   "outputs": [
    {
     "name": "stdout",
     "output_type": "stream",
     "text": [
      "{'car1': {'Mercedes': 1960}, 'car2': {'Audi': 1990}, 'car3': {'Ambassador': 1980}}\n"
     ]
    }
   ],
   "source": [
    "#netsed dictionary\n",
    "car1_model={'Mercedes':1960}\n",
    "car2_model={'Audi':1990}\n",
    "car3_model={'Ambassador':1980}\n",
    "car_type={'car1':car1_model,'car2':car2_model,'car3':car3_model}\n",
    "print(car_type)"
   ]
  },
  {
   "cell_type": "code",
   "execution_count": 16,
   "metadata": {},
   "outputs": [
    {
     "name": "stdout",
     "output_type": "stream",
     "text": [
      "1960\n"
     ]
    }
   ],
   "source": [
    "print(car_type['car1']['Mercedes'])"
   ]
  },
  {
   "cell_type": "code",
   "execution_count": 2,
   "metadata": {},
   "outputs": [
    {
     "name": "stdout",
     "output_type": "stream",
     "text": [
      "('megha', 'sahni', 'tech-lead')\n"
     ]
    }
   ],
   "source": [
    "#tuples: definition of item required for 1 time\n",
    "my_tuple=tuple()\n",
    "type(my_tuple)\n",
    "my_tuple=(\"megha\",\"sahni\",\"tech-lead\")\n",
    "print(my_tuple)"
   ]
  },
  {
   "cell_type": "code",
   "execution_count": 7,
   "metadata": {},
   "outputs": [
    {
     "data": {
      "text/plain": [
       "4"
      ]
     },
     "execution_count": 7,
     "metadata": {},
     "output_type": "execute_result"
    }
   ],
   "source": [
    "#numpy: used for creating multi-dimensional arrays, general purpose array processing package. Fundamental package for scientific computing in python\n",
    "import numpy as np\n",
    "arr=np.array([1,2,3,4,5,6,7,8,9])\n",
    "arr[3]"
   ]
  },
  {
   "cell_type": "code",
   "execution_count": 13,
   "metadata": {},
   "outputs": [
    {
     "data": {
      "text/plain": [
       "array([[1, 2, 3, 4, 5],\n",
       "       [2, 3, 4, 5, 6],\n",
       "       [3, 4, 5, 6, 7]])"
      ]
     },
     "execution_count": 13,
     "metadata": {},
     "output_type": "execute_result"
    }
   ],
   "source": [
    "list1=([1,2,3,4,5])\n",
    "list2=([2,3,4,5,6])\n",
    "list3=([3,4,5,6,7])\n",
    "arr1=np.array([list1,list2,list3])\n",
    "arr1"
   ]
  },
  {
   "cell_type": "code",
   "execution_count": 15,
   "metadata": {},
   "outputs": [
    {
     "data": {
      "text/plain": [
       "array([[5, 6],\n",
       "       [6, 7]])"
      ]
     },
     "execution_count": 15,
     "metadata": {},
     "output_type": "execute_result"
    }
   ],
   "source": [
    "arr1[1:,3:]"
   ]
  },
  {
   "cell_type": "code",
   "execution_count": 17,
   "metadata": {},
   "outputs": [
    {
     "data": {
      "text/plain": [
       "array([[3, 4],\n",
       "       [4, 5]])"
      ]
     },
     "execution_count": 17,
     "metadata": {},
     "output_type": "execute_result"
    }
   ],
   "source": [
    "arr1[1:,1:3]"
   ]
  },
  {
   "cell_type": "code",
   "execution_count": 19,
   "metadata": {},
   "outputs": [
    {
     "data": {
      "text/plain": [
       "array([[2, 3],\n",
       "       [3, 4]])"
      ]
     },
     "execution_count": 19,
     "metadata": {},
     "output_type": "execute_result"
    }
   ],
   "source": [
    "arr1[0:2,1:3]"
   ]
  },
  {
   "cell_type": "code",
   "execution_count": 20,
   "metadata": {},
   "outputs": [
    {
     "data": {
      "text/plain": [
       "array([[3, 4, 5]])"
      ]
     },
     "execution_count": 20,
     "metadata": {},
     "output_type": "execute_result"
    }
   ],
   "source": [
    "arr1[1:2,1:4]"
   ]
  },
  {
   "cell_type": "code",
   "execution_count": 23,
   "metadata": {},
   "outputs": [
    {
     "data": {
      "text/plain": [
       "array([  1,   2,   3, 100, 100, 100, 100, 100, 100])"
      ]
     },
     "execution_count": 23,
     "metadata": {},
     "output_type": "execute_result"
    }
   ],
   "source": [
    "# copy() and broadcasting\n",
    "arr[3:]=100\n",
    "arr"
   ]
  },
  {
   "cell_type": "code",
   "execution_count": 28,
   "metadata": {},
   "outputs": [
    {
     "data": {
      "text/plain": [
       "array([  1,   2,   3, 100, 100, 100, 100, 100, 100])"
      ]
     },
     "execution_count": 28,
     "metadata": {},
     "output_type": "execute_result"
    }
   ],
   "source": [
    "# some conditions useful in Exploratory data anaysis\n",
    "val=2\n",
    "arr%2\n",
    "arr[arr<300]"
   ]
  },
  {
   "cell_type": "code",
   "execution_count": 32,
   "metadata": {},
   "outputs": [],
   "source": [
    "import seaborn as sns\n",
    "import pandas as pd\n",
    "arr_ex=np.random.randn(4,4)"
   ]
  },
  {
   "cell_type": "code",
   "execution_count": 33,
   "metadata": {},
   "outputs": [
    {
     "name": "stderr",
     "output_type": "stream",
     "text": [
      "C:\\Users\\Pavilion\\Anaconda3\\lib\\site-packages\\scipy\\stats\\stats.py:1713: FutureWarning: Using a non-tuple sequence for multidimensional indexing is deprecated; use `arr[tuple(seq)]` instead of `arr[seq]`. In the future this will be interpreted as an array index, `arr[np.array(seq)]`, which will result either in an error or a different result.\n",
      "  return np.add.reduce(sorted[indexer] * weights, axis=axis) / sumval\n"
     ]
    },
    {
     "data": {
      "text/plain": [
       "<matplotlib.axes._subplots.AxesSubplot at 0x39861f0ef0>"
      ]
     },
     "execution_count": 33,
     "metadata": {},
     "output_type": "execute_result"
    },
    {
     "data": {
      "image/png": "[encoded data removed]",
      "text/plain": [
       "<Figure size 432x288 with 1 Axes>"
      ]
     },
     "metadata": {
      "needs_background": "light"
     },
     "output_type": "display_data"
    }
   ],
   "source": [
    "sns.distplot(pd.DataFrame(arr_ex.reshape(16,1)))"
   ]
  },
  {
   "cell_type": "code",
   "execution_count": 1,
   "metadata": {},
   "outputs": [],
   "source": [
    "import pandas as pd\n",
    "df=pd.read_csv('All Data.csv')"
   ]
  },
  {
   "cell_type": "code",
   "execution_count": 2,
   "metadata": {},
   "outputs": [
    {
     "data": {
      "text/html": [
       "<div>\n",
       "<style scoped>\n",
       "    .dataframe tbody tr th:only-of-type {\n",
       "        vertical-align: middle;\n",
       "    }\n",
       "\n",
       "    .dataframe tbody tr th {\n",
       "        vertical-align: top;\n",
       "    }\n",
       "\n",
       "    .dataframe thead th {\n",
       "        text-align: right;\n",
       "    }\n",
       "</style>\n",
       "<table border=\"1\" class=\"dataframe\">\n",
       "  <thead>\n",
       "    <tr style=\"text-align: right;\">\n",
       "      <th></th>\n",
       "      <th>Unnamed: 0</th>\n",
       "      <th>subject</th>\n",
       "      <th>sample</th>\n",
       "      <th>IFN.gamma</th>\n",
       "      <th>IL.12p70</th>\n",
       "      <th>IL.13</th>\n",
       "      <th>IL.1beta</th>\n",
       "      <th>IL.2</th>\n",
       "      <th>IL.4</th>\n",
       "      <th>IL.5</th>\n",
       "      <th>...</th>\n",
       "      <th>IL.7</th>\n",
       "      <th>Eotaxin</th>\n",
       "      <th>GRO.alpha</th>\n",
       "      <th>IL.8</th>\n",
       "      <th>IP.10</th>\n",
       "      <th>MCP.1</th>\n",
       "      <th>MIP.1alpha</th>\n",
       "      <th>MIP.1beta</th>\n",
       "      <th>SDF.1alpha</th>\n",
       "      <th>RANTES</th>\n",
       "    </tr>\n",
       "  </thead>\n",
       "  <tbody>\n",
       "    <tr>\n",
       "      <th>0</th>\n",
       "      <td>0</td>\n",
       "      <td>IC123_0</td>\n",
       "      <td>20ECH057603</td>\n",
       "      <td>0.0</td>\n",
       "      <td>0.0</td>\n",
       "      <td>0.0</td>\n",
       "      <td>0.00</td>\n",
       "      <td>0.00</td>\n",
       "      <td>0.0</td>\n",
       "      <td>0.0</td>\n",
       "      <td>...</td>\n",
       "      <td>0.23</td>\n",
       "      <td>1.10</td>\n",
       "      <td>0.0</td>\n",
       "      <td>0.00</td>\n",
       "      <td>7.25</td>\n",
       "      <td>0.00</td>\n",
       "      <td>0.0</td>\n",
       "      <td>0.23</td>\n",
       "      <td>0.00</td>\n",
       "      <td>26.98</td>\n",
       "    </tr>\n",
       "    <tr>\n",
       "      <th>1</th>\n",
       "      <td>1</td>\n",
       "      <td>IC125_0</td>\n",
       "      <td>20ECH059494</td>\n",
       "      <td>0.0</td>\n",
       "      <td>0.0</td>\n",
       "      <td>0.0</td>\n",
       "      <td>0.00</td>\n",
       "      <td>0.00</td>\n",
       "      <td>0.0</td>\n",
       "      <td>0.0</td>\n",
       "      <td>...</td>\n",
       "      <td>0.23</td>\n",
       "      <td>1.63</td>\n",
       "      <td>0.0</td>\n",
       "      <td>0.00</td>\n",
       "      <td>14.17</td>\n",
       "      <td>6.12</td>\n",
       "      <td>0.0</td>\n",
       "      <td>10.44</td>\n",
       "      <td>0.00</td>\n",
       "      <td>48.58</td>\n",
       "    </tr>\n",
       "    <tr>\n",
       "      <th>2</th>\n",
       "      <td>2</td>\n",
       "      <td>IC127_0</td>\n",
       "      <td>20ECH060798</td>\n",
       "      <td>0.0</td>\n",
       "      <td>0.0</td>\n",
       "      <td>0.0</td>\n",
       "      <td>0.00</td>\n",
       "      <td>0.00</td>\n",
       "      <td>0.0</td>\n",
       "      <td>0.0</td>\n",
       "      <td>...</td>\n",
       "      <td>0.63</td>\n",
       "      <td>3.02</td>\n",
       "      <td>0.0</td>\n",
       "      <td>0.00</td>\n",
       "      <td>17.11</td>\n",
       "      <td>5.27</td>\n",
       "      <td>0.0</td>\n",
       "      <td>16.94</td>\n",
       "      <td>58.29</td>\n",
       "      <td>40.16</td>\n",
       "    </tr>\n",
       "    <tr>\n",
       "      <th>3</th>\n",
       "      <td>3</td>\n",
       "      <td>IC129_0</td>\n",
       "      <td>20ECH061356</td>\n",
       "      <td>0.0</td>\n",
       "      <td>0.0</td>\n",
       "      <td>0.0</td>\n",
       "      <td>0.00</td>\n",
       "      <td>0.00</td>\n",
       "      <td>0.0</td>\n",
       "      <td>0.0</td>\n",
       "      <td>...</td>\n",
       "      <td>0.49</td>\n",
       "      <td>6.06</td>\n",
       "      <td>0.0</td>\n",
       "      <td>1.02</td>\n",
       "      <td>29.16</td>\n",
       "      <td>55.29</td>\n",
       "      <td>0.0</td>\n",
       "      <td>29.69</td>\n",
       "      <td>47.46</td>\n",
       "      <td>44.58</td>\n",
       "    </tr>\n",
       "    <tr>\n",
       "      <th>4</th>\n",
       "      <td>4</td>\n",
       "      <td>IC130_0</td>\n",
       "      <td>20ECH061361</td>\n",
       "      <td>0.0</td>\n",
       "      <td>0.0</td>\n",
       "      <td>0.0</td>\n",
       "      <td>0.38</td>\n",
       "      <td>7.65</td>\n",
       "      <td>0.0</td>\n",
       "      <td>0.0</td>\n",
       "      <td>...</td>\n",
       "      <td>0.49</td>\n",
       "      <td>4.79</td>\n",
       "      <td>0.0</td>\n",
       "      <td>0.00</td>\n",
       "      <td>22.55</td>\n",
       "      <td>12.50</td>\n",
       "      <td>0.0</td>\n",
       "      <td>13.25</td>\n",
       "      <td>41.98</td>\n",
       "      <td>33.59</td>\n",
       "    </tr>\n",
       "  </tbody>\n",
       "</table>\n",
       "<p>5 rows × 36 columns</p>\n",
       "</div>"
      ],
      "text/plain": [
       "   Unnamed: 0  subject       sample  IFN.gamma  IL.12p70  IL.13  IL.1beta  \\\n",
       "0           0  IC123_0  20ECH057603        0.0       0.0    0.0      0.00   \n",
       "1           1  IC125_0  20ECH059494        0.0       0.0    0.0      0.00   \n",
       "2           2  IC127_0  20ECH060798        0.0       0.0    0.0      0.00   \n",
       "3           3  IC129_0  20ECH061356        0.0       0.0    0.0      0.00   \n",
       "4           4  IC130_0  20ECH061361        0.0       0.0    0.0      0.38   \n",
       "\n",
       "   IL.2  IL.4  IL.5   ...    IL.7  Eotaxin  GRO.alpha  IL.8  IP.10  MCP.1  \\\n",
       "0  0.00   0.0   0.0   ...    0.23     1.10        0.0  0.00   7.25   0.00   \n",
       "1  0.00   0.0   0.0   ...    0.23     1.63        0.0  0.00  14.17   6.12   \n",
       "2  0.00   0.0   0.0   ...    0.63     3.02        0.0  0.00  17.11   5.27   \n",
       "3  0.00   0.0   0.0   ...    0.49     6.06        0.0  1.02  29.16  55.29   \n",
       "4  7.65   0.0   0.0   ...    0.49     4.79        0.0  0.00  22.55  12.50   \n",
       "\n",
       "   MIP.1alpha  MIP.1beta  SDF.1alpha  RANTES  \n",
       "0         0.0       0.23        0.00   26.98  \n",
       "1         0.0      10.44        0.00   48.58  \n",
       "2         0.0      16.94       58.29   40.16  \n",
       "3         0.0      29.69       47.46   44.58  \n",
       "4         0.0      13.25       41.98   33.59  \n",
       "\n",
       "[5 rows x 36 columns]"
      ]
     },
     "execution_count": 2,
     "metadata": {},
     "output_type": "execute_result"
    }
   ],
   "source": [
    "df.head()"
   ]
  },
  {
   "cell_type": "code",
   "execution_count": 3,
   "metadata": {},
   "outputs": [
    {
     "name": "stdout",
     "output_type": "stream",
     "text": [
      "<class 'pandas.core.frame.DataFrame'>\n",
      "RangeIndex: 214 entries, 0 to 213\n",
      "Data columns (total 36 columns):\n",
      "Unnamed: 0    214 non-null int64\n",
      "subject       214 non-null object\n",
      "sample        213 non-null object\n",
      "IFN.gamma     214 non-null float64\n",
      "IL.12p70      214 non-null float64\n",
      "IL.13         214 non-null float64\n",
      "IL.1beta      214 non-null float64\n",
      "IL.2          214 non-null float64\n",
      "IL.4          214 non-null float64\n",
      "IL.5          214 non-null float64\n",
      "IL.6          214 non-null float64\n",
      "TNF.alpha     214 non-null float64\n",
      "GM.CSF        214 non-null float64\n",
      "IL.18         214 non-null float64\n",
      "IL.10         214 non-null float64\n",
      "IL.17A        214 non-null float64\n",
      "IL.21         214 non-null float64\n",
      "IL.22         214 non-null float64\n",
      "IL.23         214 non-null float64\n",
      "IL.27         214 non-null float64\n",
      "IL.9          214 non-null float64\n",
      "IFN.alpha     214 non-null float64\n",
      "IL.31         214 non-null float64\n",
      "IL.15         214 non-null float64\n",
      "IL.1alpha     214 non-null float64\n",
      "IL.1RA        214 non-null float64\n",
      "IL.7          214 non-null float64\n",
      "Eotaxin       214 non-null float64\n",
      "GRO.alpha     214 non-null float64\n",
      "IL.8          214 non-null float64\n",
      "IP.10         214 non-null float64\n",
      "MCP.1         214 non-null float64\n",
      "MIP.1alpha    214 non-null float64\n",
      "MIP.1beta     214 non-null float64\n",
      "SDF.1alpha    214 non-null float64\n",
      "RANTES        214 non-null float64\n",
      "dtypes: float64(33), int64(1), object(2)\n",
      "memory usage: 60.3+ KB\n"
     ]
    }
   ],
   "source": [
    "df.info()"
   ]
  },
  {
   "cell_type": "code",
   "execution_count": 6,
   "metadata": {},
   "outputs": [
    {
     "data": {
      "text/html": [
       "<div>\n",
       "<style scoped>\n",
       "    .dataframe tbody tr th:only-of-type {\n",
       "        vertical-align: middle;\n",
       "    }\n",
       "\n",
       "    .dataframe tbody tr th {\n",
       "        vertical-align: top;\n",
       "    }\n",
       "\n",
       "    .dataframe thead th {\n",
       "        text-align: right;\n",
       "    }\n",
       "</style>\n",
       "<table border=\"1\" class=\"dataframe\">\n",
       "  <thead>\n",
       "    <tr style=\"text-align: right;\">\n",
       "      <th></th>\n",
       "      <th>Unnamed: 0</th>\n",
       "      <th>IFN.gamma</th>\n",
       "      <th>IL.12p70</th>\n",
       "      <th>IL.13</th>\n",
       "      <th>IL.1beta</th>\n",
       "      <th>IL.2</th>\n",
       "      <th>IL.4</th>\n",
       "      <th>IL.5</th>\n",
       "      <th>IL.6</th>\n",
       "      <th>TNF.alpha</th>\n",
       "      <th>...</th>\n",
       "      <th>IL.7</th>\n",
       "      <th>Eotaxin</th>\n",
       "      <th>GRO.alpha</th>\n",
       "      <th>IL.8</th>\n",
       "      <th>IP.10</th>\n",
       "      <th>MCP.1</th>\n",
       "      <th>MIP.1alpha</th>\n",
       "      <th>MIP.1beta</th>\n",
       "      <th>SDF.1alpha</th>\n",
       "      <th>RANTES</th>\n",
       "    </tr>\n",
       "  </thead>\n",
       "  <tbody>\n",
       "    <tr>\n",
       "      <th>count</th>\n",
       "      <td>214.000000</td>\n",
       "      <td>214.000000</td>\n",
       "      <td>214.000000</td>\n",
       "      <td>214.000000</td>\n",
       "      <td>214.000000</td>\n",
       "      <td>214.000000</td>\n",
       "      <td>214.000000</td>\n",
       "      <td>214.000000</td>\n",
       "      <td>214.000000</td>\n",
       "      <td>214.000000</td>\n",
       "      <td>...</td>\n",
       "      <td>214.000000</td>\n",
       "      <td>214.000000</td>\n",
       "      <td>214.000000</td>\n",
       "      <td>214.000000</td>\n",
       "      <td>214.000000</td>\n",
       "      <td>214.000000</td>\n",
       "      <td>214.000000</td>\n",
       "      <td>214.000000</td>\n",
       "      <td>214.000000</td>\n",
       "      <td>214.000000</td>\n",
       "    </tr>\n",
       "    <tr>\n",
       "      <th>mean</th>\n",
       "      <td>106.500000</td>\n",
       "      <td>21.432991</td>\n",
       "      <td>3.047944</td>\n",
       "      <td>9.978645</td>\n",
       "      <td>26.785093</td>\n",
       "      <td>38.951776</td>\n",
       "      <td>11.429860</td>\n",
       "      <td>24.443738</td>\n",
       "      <td>25.818271</td>\n",
       "      <td>12.890280</td>\n",
       "      <td>...</td>\n",
       "      <td>3.478645</td>\n",
       "      <td>7.405467</td>\n",
       "      <td>2.216869</td>\n",
       "      <td>3.516075</td>\n",
       "      <td>22.274907</td>\n",
       "      <td>26.647617</td>\n",
       "      <td>2.703084</td>\n",
       "      <td>29.680234</td>\n",
       "      <td>214.573131</td>\n",
       "      <td>62.472290</td>\n",
       "    </tr>\n",
       "    <tr>\n",
       "      <th>std</th>\n",
       "      <td>61.920648</td>\n",
       "      <td>32.610543</td>\n",
       "      <td>2.766921</td>\n",
       "      <td>17.438267</td>\n",
       "      <td>34.805816</td>\n",
       "      <td>46.737696</td>\n",
       "      <td>73.099922</td>\n",
       "      <td>38.801321</td>\n",
       "      <td>66.931573</td>\n",
       "      <td>20.194258</td>\n",
       "      <td>...</td>\n",
       "      <td>4.670074</td>\n",
       "      <td>5.909773</td>\n",
       "      <td>7.641999</td>\n",
       "      <td>19.630683</td>\n",
       "      <td>37.708093</td>\n",
       "      <td>37.360734</td>\n",
       "      <td>5.365228</td>\n",
       "      <td>36.837505</td>\n",
       "      <td>292.358945</td>\n",
       "      <td>26.669291</td>\n",
       "    </tr>\n",
       "    <tr>\n",
       "      <th>min</th>\n",
       "      <td>0.000000</td>\n",
       "      <td>0.000000</td>\n",
       "      <td>0.000000</td>\n",
       "      <td>0.000000</td>\n",
       "      <td>0.000000</td>\n",
       "      <td>0.000000</td>\n",
       "      <td>0.000000</td>\n",
       "      <td>0.000000</td>\n",
       "      <td>0.000000</td>\n",
       "      <td>0.000000</td>\n",
       "      <td>...</td>\n",
       "      <td>0.000000</td>\n",
       "      <td>0.560000</td>\n",
       "      <td>0.000000</td>\n",
       "      <td>0.000000</td>\n",
       "      <td>0.000000</td>\n",
       "      <td>0.000000</td>\n",
       "      <td>0.000000</td>\n",
       "      <td>0.000000</td>\n",
       "      <td>0.000000</td>\n",
       "      <td>0.260000</td>\n",
       "    </tr>\n",
       "    <tr>\n",
       "      <th>25%</th>\n",
       "      <td>53.250000</td>\n",
       "      <td>0.000000</td>\n",
       "      <td>0.000000</td>\n",
       "      <td>0.000000</td>\n",
       "      <td>0.000000</td>\n",
       "      <td>0.000000</td>\n",
       "      <td>0.000000</td>\n",
       "      <td>0.000000</td>\n",
       "      <td>0.000000</td>\n",
       "      <td>0.000000</td>\n",
       "      <td>...</td>\n",
       "      <td>0.480000</td>\n",
       "      <td>3.512500</td>\n",
       "      <td>0.000000</td>\n",
       "      <td>0.000000</td>\n",
       "      <td>5.382500</td>\n",
       "      <td>8.192500</td>\n",
       "      <td>0.000000</td>\n",
       "      <td>12.677500</td>\n",
       "      <td>39.855000</td>\n",
       "      <td>45.547500</td>\n",
       "    </tr>\n",
       "    <tr>\n",
       "      <th>50%</th>\n",
       "      <td>106.500000</td>\n",
       "      <td>10.400000</td>\n",
       "      <td>3.220000</td>\n",
       "      <td>5.340000</td>\n",
       "      <td>11.420000</td>\n",
       "      <td>17.720000</td>\n",
       "      <td>0.000000</td>\n",
       "      <td>4.720000</td>\n",
       "      <td>0.000000</td>\n",
       "      <td>2.200000</td>\n",
       "      <td>...</td>\n",
       "      <td>1.170000</td>\n",
       "      <td>5.310000</td>\n",
       "      <td>0.000000</td>\n",
       "      <td>0.000000</td>\n",
       "      <td>9.275000</td>\n",
       "      <td>15.640000</td>\n",
       "      <td>0.000000</td>\n",
       "      <td>22.675000</td>\n",
       "      <td>145.140000</td>\n",
       "      <td>60.850000</td>\n",
       "    </tr>\n",
       "    <tr>\n",
       "      <th>75%</th>\n",
       "      <td>159.750000</td>\n",
       "      <td>32.902500</td>\n",
       "      <td>4.480000</td>\n",
       "      <td>13.690000</td>\n",
       "      <td>40.332500</td>\n",
       "      <td>65.605000</td>\n",
       "      <td>3.060000</td>\n",
       "      <td>35.697500</td>\n",
       "      <td>21.737500</td>\n",
       "      <td>20.695000</td>\n",
       "      <td>...</td>\n",
       "      <td>4.977500</td>\n",
       "      <td>9.837500</td>\n",
       "      <td>0.000000</td>\n",
       "      <td>0.570000</td>\n",
       "      <td>24.102500</td>\n",
       "      <td>29.230000</td>\n",
       "      <td>3.200000</td>\n",
       "      <td>36.172500</td>\n",
       "      <td>279.817500</td>\n",
       "      <td>74.865000</td>\n",
       "    </tr>\n",
       "    <tr>\n",
       "      <th>max</th>\n",
       "      <td>213.000000</td>\n",
       "      <td>313.350000</td>\n",
       "      <td>13.910000</td>\n",
       "      <td>198.860000</td>\n",
       "      <td>164.200000</td>\n",
       "      <td>188.570000</td>\n",
       "      <td>908.230000</td>\n",
       "      <td>251.900000</td>\n",
       "      <td>538.670000</td>\n",
       "      <td>102.460000</td>\n",
       "      <td>...</td>\n",
       "      <td>20.770000</td>\n",
       "      <td>44.460000</td>\n",
       "      <td>90.340000</td>\n",
       "      <td>260.440000</td>\n",
       "      <td>301.120000</td>\n",
       "      <td>350.150000</td>\n",
       "      <td>31.350000</td>\n",
       "      <td>272.360000</td>\n",
       "      <td>2280.220000</td>\n",
       "      <td>189.500000</td>\n",
       "    </tr>\n",
       "  </tbody>\n",
       "</table>\n",
       "<p>8 rows × 34 columns</p>\n",
       "</div>"
      ],
      "text/plain": [
       "       Unnamed: 0   IFN.gamma    IL.12p70       IL.13    IL.1beta        IL.2  \\\n",
       "count  214.000000  214.000000  214.000000  214.000000  214.000000  214.000000   \n",
       "mean   106.500000   21.432991    3.047944    9.978645   26.785093   38.951776   \n",
       "std     61.920648   32.610543    2.766921   17.438267   34.805816   46.737696   \n",
       "min      0.000000    0.000000    0.000000    0.000000    0.000000    0.000000   \n",
       "25%     53.250000    0.000000    0.000000    0.000000    0.000000    0.000000   \n",
       "50%    106.500000   10.400000    3.220000    5.340000   11.420000   17.720000   \n",
       "75%    159.750000   32.902500    4.480000   13.690000   40.332500   65.605000   \n",
       "max    213.000000  313.350000   13.910000  198.860000  164.200000  188.570000   \n",
       "\n",
       "             IL.4        IL.5        IL.6   TNF.alpha     ...            IL.7  \\\n",
       "count  214.000000  214.000000  214.000000  214.000000     ...      214.000000   \n",
       "mean    11.429860   24.443738   25.818271   12.890280     ...        3.478645   \n",
       "std     73.099922   38.801321   66.931573   20.194258     ...        4.670074   \n",
       "min      0.000000    0.000000    0.000000    0.000000     ...        0.000000   \n",
       "25%      0.000000    0.000000    0.000000    0.000000     ...        0.480000   \n",
       "50%      0.000000    4.720000    0.000000    2.200000     ...        1.170000   \n",
       "75%      3.060000   35.697500   21.737500   20.695000     ...        4.977500   \n",
       "max    908.230000  251.900000  538.670000  102.460000     ...       20.770000   \n",
       "\n",
       "          Eotaxin   GRO.alpha        IL.8       IP.10       MCP.1  MIP.1alpha  \\\n",
       "count  214.000000  214.000000  214.000000  214.000000  214.000000  214.000000   \n",
       "mean     7.405467    2.216869    3.516075   22.274907   26.647617    2.703084   \n",
       "std      5.909773    7.641999   19.630683   37.708093   37.360734    5.365228   \n",
       "min      0.560000    0.000000    0.000000    0.000000    0.000000    0.000000   \n",
       "25%      3.512500    0.000000    0.000000    5.382500    8.192500    0.000000   \n",
       "50%      5.310000    0.000000    0.000000    9.275000   15.640000    0.000000   \n",
       "75%      9.837500    0.000000    0.570000   24.102500   29.230000    3.200000   \n",
       "max     44.460000   90.340000  260.440000  301.120000  350.150000   31.350000   \n",
       "\n",
       "        MIP.1beta   SDF.1alpha      RANTES  \n",
       "count  214.000000   214.000000  214.000000  \n",
       "mean    29.680234   214.573131   62.472290  \n",
       "std     36.837505   292.358945   26.669291  \n",
       "min      0.000000     0.000000    0.260000  \n",
       "25%     12.677500    39.855000   45.547500  \n",
       "50%     22.675000   145.140000   60.850000  \n",
       "75%     36.172500   279.817500   74.865000  \n",
       "max    272.360000  2280.220000  189.500000  \n",
       "\n",
       "[8 rows x 34 columns]"
      ]
     },
     "execution_count": 6,
     "metadata": {},
     "output_type": "execute_result"
    }
   ],
   "source": [
    "df.describe()\n",
    "#integer column taken into consideration(percentile not percentage), categorical feature skipped"
   ]
  },
  {
   "cell_type": "code",
   "execution_count": 16,
   "metadata": {},
   "outputs": [
    {
     "data": {
      "text/html": [
       "<div>\n",
       "<style scoped>\n",
       "    .dataframe tbody tr th:only-of-type {\n",
       "        vertical-align: middle;\n",
       "    }\n",
       "\n",
       "    .dataframe tbody tr th {\n",
       "        vertical-align: top;\n",
       "    }\n",
       "\n",
       "    .dataframe thead th {\n",
       "        text-align: right;\n",
       "    }\n",
       "</style>\n",
       "<table border=\"1\" class=\"dataframe\">\n",
       "  <thead>\n",
       "    <tr style=\"text-align: right;\">\n",
       "      <th></th>\n",
       "      <th>emp_name</th>\n",
       "      <th>email</th>\n",
       "      <th>job_profile</th>\n",
       "    </tr>\n",
       "  </thead>\n",
       "  <tbody>\n",
       "    <tr>\n",
       "      <th>0</th>\n",
       "      <td>Megha</td>\n",
       "      <td>meghas@gmail.com</td>\n",
       "      <td>{'title1': 'Team Lead', 'title2': 'Sr. Dev'}</td>\n",
       "    </tr>\n",
       "  </tbody>\n",
       "</table>\n",
       "</div>"
      ],
      "text/plain": [
       "  emp_name             email                                   job_profile\n",
       "0    Megha  meghas@gmail.com  {'title1': 'Team Lead', 'title2': 'Sr. Dev'}"
      ]
     },
     "execution_count": 16,
     "metadata": {},
     "output_type": "execute_result"
    }
   ],
   "source": [
    "#Read JSON to CSV\n",
    "Data='{\"emp_name\":\"Megha\",\"email\":\"meghas@gmail.com\",\"job_profile\":[{\"title1\":\"Team Lead\",\"title2\":\"Sr. Dev\"}]}'\n",
    "df1=pd.read_json(Data)\n",
    "df1"
   ]
  },
  {
   "cell_type": "code",
   "execution_count": 17,
   "metadata": {},
   "outputs": [
    {
     "data": {
      "text/plain": [
       "'[{\"emp_name\":\"Megha\",\"email\":\"meghas@gmail.com\",\"job_profile\":{\"title1\":\"Team Lead\",\"title2\":\"Sr. Dev\"}}]'"
      ]
     },
     "execution_count": 17,
     "metadata": {},
     "output_type": "execute_result"
    }
   ],
   "source": [
    "# df.to_csv()\n",
    "df1.to_json(orient=\"records\")"
   ]
  },
  {
   "cell_type": "code",
   "execution_count": 18,
   "metadata": {},
   "outputs": [],
   "source": [
    "import matplotlib.pyplot as plt\n",
    "%matplotlib inline"
   ]
  },
  {
   "cell_type": "code",
   "execution_count": 19,
   "metadata": {},
   "outputs": [],
   "source": [
    "import numpy as np"
   ]
  },
  {
   "cell_type": "code",
   "execution_count": 21,
   "metadata": {},
   "outputs": [],
   "source": [
    "x=np.arange(0,10)\n",
    "y=np.arange(11,21)"
   ]
  },
  {
   "cell_type": "code",
   "execution_count": 27,
   "metadata": {},
   "outputs": [
    {
     "data": {
      "text/plain": [
       "Text(0.5,1,'2d diagram')"
      ]
     },
     "execution_count": 27,
     "metadata": {},
     "output_type": "execute_result"
    },
    {
     "data": {
      "image/png": "[encoded data removed]",
      "text/plain": [
       "<Figure size 432x288 with 1 Axes>"
      ]
     },
     "metadata": {
      "needs_background": "light"
     },
     "output_type": "display_data"
    }
   ],
   "source": [
    "plt.scatter(x,y,c='g')\n",
    "plt.xlabel('X Axis')\n",
    "plt.ylabel('Y Axis')\n",
    "plt.title('Graph in 2D')\n",
    "plt.savefig('plot.png')\n",
    "plt.plot(x,y,'r*',linestyle='dashed',linewidth=2,markersize=12)\n",
    "plt.title('2d diagram')"
   ]
  },
  {
   "cell_type": "code",
   "execution_count": 29,
   "metadata": {},
   "outputs": [
    {
     "data": {
      "text/plain": [
       "[<matplotlib.lines.Line2D at 0xdc742807f0>]"
      ]
     },
     "execution_count": 29,
     "metadata": {},
     "output_type": "execute_result"
    },
    {
     "data": {
      "image/png": "[encoded data removed]",
      "text/plain": [
       "<Figure size 432x288 with 3 Axes>"
      ]
     },
     "metadata": {
      "needs_background": "light"
     },
     "output_type": "display_data"
    }
   ],
   "source": [
    "plt.subplot(2,2,1)#rows,cols,\n",
    "plt.plot(x,y,'r')\n",
    "plt.subplot(2,2,2)\n",
    "plt.plot(x,y,'bo')\n",
    "plt.subplot(2,2,3)\n",
    "plt.plot(x,y,'go')"
   ]
  },
  {
   "cell_type": "code",
   "execution_count": null,
   "metadata": {},
   "outputs": [],
   "source": []
  }
 ],
 "metadata": {
  "kernelspec": {
   "display_name": "Python 3",
   "language": "python",
   "name": "python3"
  },
  "language_info": {
   "codemirror_mode": {
    "name": "ipython",
    "version": 3
   },
   "file_extension": ".py",
   "mimetype": "text/x-python",
   "name": "python",
   "nbconvert_exporter": "python",
   "pygments_lexer": "ipython3",
   "version": "3.7.0"
  }
 },
 "nbformat": 4,
 "nbformat_minor": 2
}
